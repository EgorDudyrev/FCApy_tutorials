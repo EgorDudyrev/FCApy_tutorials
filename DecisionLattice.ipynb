{
 "cells": [
  {
   "cell_type": "markdown",
   "metadata": {},
   "source": [
    "**WARNING**\n",
    "For some reason now the Decision Lattice works for small datasets only. Before that (approx. Jan 2021) it operated datasets of medium size (thousands of elements)"
   ]
  },
  {
   "cell_type": "code",
   "execution_count": 1,
   "metadata": {},
   "outputs": [],
   "source": [
    "!pip install -U -q fcapy==0.1.3"
   ]
  },
  {
   "cell_type": "code",
   "execution_count": 2,
   "metadata": {},
   "outputs": [],
   "source": [
    "#load data from sci-kit learn\n",
    "from sklearn.datasets import fetch_california_housing\n",
    "california_data = fetch_california_housing(as_frame=True)\n",
    "df = california_data['data']\n",
    "y = california_data['target']"
   ]
  },
  {
   "cell_type": "code",
   "execution_count": 3,
   "metadata": {},
   "outputs": [
    {
     "data": {
      "text/plain": [
       "ManyValuedContext (20640 objects, 8 attributes)"
      ]
     },
     "execution_count": 3,
     "metadata": {},
     "output_type": "execute_result"
    }
   ],
   "source": [
    "from fcapy.mvcontext import MVContext, PS\n",
    "# define a specific type of PatternStructure for each column of a dataframe\n",
    "ptypes = {f: PS.IntervalPS for f in df.columns}\n",
    "# create a MVContext\n",
    "K = MVContext(\n",
    "    df.values, target=y.values,\n",
    "    pattern_types=ptypes, attribute_names=df.columns\n",
    ")\n",
    "K"
   ]
  },
  {
   "cell_type": "code",
   "execution_count": 4,
   "metadata": {},
   "outputs": [],
   "source": [
    "n_train, n_test = 100, 100 # 16000, 4000"
   ]
  },
  {
   "cell_type": "markdown",
   "metadata": {},
   "source": [
    "Split to train and test set"
   ]
  },
  {
   "cell_type": "code",
   "execution_count": 5,
   "metadata": {},
   "outputs": [],
   "source": [
    "#K_train, K_test = K[:16000], K[16000:]\n",
    "K_train, K_test = K[:n_train], K[n_train:n_train+n_test]"
   ]
  },
  {
   "cell_type": "markdown",
   "metadata": {},
   "source": [
    "Initialize a DecisionLattice model (which uses RandomForest in the construction process)"
   ]
  },
  {
   "cell_type": "code",
   "execution_count": 6,
   "metadata": {},
   "outputs": [],
   "source": [
    "from fcapy.ml.decision_lattice import DecisionLatticeRegressor\n",
    "rf_params = {'n_estimators':5, 'max_depth':10}\n",
    "dlr = DecisionLatticeRegressor(algo='RandomForest', algo_params={'rf_params':rf_params})"
   ]
  },
  {
   "cell_type": "markdown",
   "metadata": {},
   "source": [
    "Fit the model"
   ]
  },
  {
   "cell_type": "code",
   "execution_count": 7,
   "metadata": {},
   "outputs": [
    {
     "name": "stdout",
     "output_type": "stream",
     "text": [
      "CPU times: user 13.4 s, sys: 14.2 ms, total: 13.4 s\n",
      "Wall time: 13.5 s\n"
     ]
    }
   ],
   "source": [
    "%time dlr.fit(K_train, use_tqdm=True)"
   ]
  },
  {
   "cell_type": "markdown",
   "metadata": {},
   "source": [
    "Predict the values"
   ]
  },
  {
   "cell_type": "code",
   "execution_count": 8,
   "metadata": {},
   "outputs": [],
   "source": [
    "preds_train_dlr = dlr.predict(K_train)\n",
    "preds_test_dlr = dlr.predict(K_test)\n",
    "\n",
    "## sometimes, a test object can not be described by any concept from ConceptLattice\n",
    "## in this case, the model predicts None. We replace it with mean target value over the train context\n",
    "preds_test_dlr = [p if p is not None else K_train.target.mean() for p in preds_test_dlr]"
   ]
  },
  {
   "cell_type": "markdown",
   "metadata": {},
   "source": [
    "Calculate the MSE"
   ]
  },
  {
   "cell_type": "code",
   "execution_count": 9,
   "metadata": {},
   "outputs": [
    {
     "data": {
      "text/plain": [
       "(0.005696215460586414, 1.2633592142061563)"
      ]
     },
     "execution_count": 9,
     "metadata": {},
     "output_type": "execute_result"
    }
   ],
   "source": [
    "from sklearn.metrics import mean_squared_error\n",
    "mean_squared_error(K_train.target, preds_train_dlr), mean_squared_error(K_test.target, preds_test_dlr)"
   ]
  },
  {
   "cell_type": "markdown",
   "metadata": {},
   "source": [
    "Fit a Random Forest model for the comparison"
   ]
  },
  {
   "cell_type": "code",
   "execution_count": 10,
   "metadata": {},
   "outputs": [
    {
     "name": "stdout",
     "output_type": "stream",
     "text": [
      "CPU times: user 8.41 ms, sys: 3 µs, total: 8.41 ms\n",
      "Wall time: 7.94 ms\n"
     ]
    },
    {
     "data": {
      "text/plain": [
       "RandomForestRegressor(max_depth=10, n_estimators=5)"
      ]
     },
     "execution_count": 10,
     "metadata": {},
     "output_type": "execute_result"
    }
   ],
   "source": [
    "from sklearn.ensemble import RandomForestRegressor\n",
    "rf = RandomForestRegressor(**rf_params)\n",
    "\n",
    "%time rf.fit(df[:n_train], y[:n_train])"
   ]
  },
  {
   "cell_type": "code",
   "execution_count": 11,
   "metadata": {},
   "outputs": [
    {
     "data": {
      "text/plain": [
       "(0.07154953684880447, 0.6678685627999998)"
      ]
     },
     "execution_count": 11,
     "metadata": {},
     "output_type": "execute_result"
    }
   ],
   "source": [
    "preds_train_rf = rf.predict(df[:n_train])\n",
    "preds_test_rf = rf.predict(df[n_train:n_train+n_test])\n",
    "\n",
    "mean_squared_error(K_train.target, preds_train_rf), mean_squared_error(K_test.target, preds_test_rf)"
   ]
  }
 ],
 "metadata": {
  "kernelspec": {
   "display_name": "Python 3",
   "language": "python",
   "name": "python3"
  },
  "language_info": {
   "codemirror_mode": {
    "name": "ipython",
    "version": 3
   },
   "file_extension": ".py",
   "mimetype": "text/x-python",
   "name": "python",
   "nbconvert_exporter": "python",
   "pygments_lexer": "ipython3",
   "version": "3.8.3"
  }
 },
 "nbformat": 4,
 "nbformat_minor": 4
}
