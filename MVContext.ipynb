{
 "cells": [
  {
   "cell_type": "markdown",
   "metadata": {},
   "source": [
    "# ManyValuedContext\n",
    "\n",
    "This notebook demonstrates the basic functionality of ``MVContext`` class.\n",
    "\n",
    "The class allows one to create a many valued context from FCA theory. Set its objects and descriptions of these objects. Then one can compute intention of subset of objects and extension of subset of attributes.\n",
    "\n",
    "The data can be loaded and save to json"
   ]
  },
  {
   "cell_type": "markdown",
   "metadata": {},
   "source": [
    "## Create MVContext"
   ]
  },
  {
   "cell_type": "markdown",
   "metadata": {},
   "source": [
    "In this example, we create a many valued context from California Housing dataset."
   ]
  },
  {
   "cell_type": "code",
   "execution_count": 1,
   "metadata": {},
   "outputs": [],
   "source": [
    "#load data from sci-kit learn\n",
    "from sklearn.datasets import fetch_california_housing\n",
    "california_data = fetch_california_housing(as_frame=True)\n",
    "df = california_data['data'].round(3)"
   ]
  },
  {
   "cell_type": "markdown",
   "metadata": {},
   "source": [
    "We define a specific type of PatternStructure for each column of a dataframe and create a MVContext"
   ]
  },
  {
   "cell_type": "code",
   "execution_count": 16,
   "metadata": {},
   "outputs": [],
   "source": [
    "from fcapy.mvcontext import MVContext, PS\n",
    "ptypes = {f: PS.IntervalPS for f in df.columns}\n",
    "K = MVContext(\n",
    "    df.values, pattern_types=ptypes,\n",
    "    object_names=('house_'+df.index.astype(str)).tolist(),\n",
    "    attribute_names=df.columns.tolist(),\n",
    ")"
   ]
  },
  {
   "cell_type": "markdown",
   "metadata": {},
   "source": [
    "Get the description of the first house"
   ]
  },
  {
   "cell_type": "code",
   "execution_count": 17,
   "metadata": {},
   "outputs": [
    {
     "data": {
      "text/plain": [
       "{0: (8.325, 8.325),\n",
       " 1: (41.0, 41.0),\n",
       " 2: (6.984, 6.984),\n",
       " 3: (1.024, 1.024),\n",
       " 4: (322.0, 322.0),\n",
       " 5: (2.556, 2.556),\n",
       " 6: (37.88, 37.88),\n",
       " 7: (-122.23, -122.23)}"
      ]
     },
     "execution_count": 17,
     "metadata": {},
     "output_type": "execute_result"
    }
   ],
   "source": [
    "K.intention_i([0])"
   ]
  },
  {
   "cell_type": "markdown",
   "metadata": {},
   "source": [
    "The output says the following:\n",
    "* value of the feature $0$ lies in interval $[8.325, 8.325]$,\n",
    "* value of the feature $1$ lies in interval $[41.0, 41.0]$,\n",
    "* etc"
   ]
  },
  {
   "cell_type": "markdown",
   "metadata": {},
   "source": [
    "Get the common description of houses {``house_1``, ``house_42``}"
   ]
  },
  {
   "cell_type": "code",
   "execution_count": 20,
   "metadata": {},
   "outputs": [
    {
     "data": {
      "text/plain": [
       "{'MedInc': (1.025, 8.301),\n",
       " 'HouseAge': (21.0, 49.0),\n",
       " 'AveRooms': (3.772, 6.238),\n",
       " 'AveBedrms': (0.972, 1.069),\n",
       " 'Population': (462.0, 2401.0),\n",
       " 'AveOccup': (2.11, 2.444),\n",
       " 'Latitude': (37.84, 37.86),\n",
       " 'Longitude': (-122.26, -122.22)}"
      ]
     },
     "execution_count": 20,
     "metadata": {},
     "output_type": "execute_result"
    }
   ],
   "source": [
    "K.intention(['house_1', 'house_42'])"
   ]
  },
  {
   "cell_type": "markdown",
   "metadata": {},
   "source": [
    "The output says the following:\n",
    "* the common value of the feature 'MedInc' in interval $[1.025, 8.301]$,\n",
    "* the common value of the feature 'HouseAge' lies in interval $[21.0, 49.0]$,\n",
    "* etc"
   ]
  },
  {
   "cell_type": "markdown",
   "metadata": {},
   "source": [
    "Get a number of houses with an age in a closed interval [10, 21]"
   ]
  },
  {
   "cell_type": "code",
   "execution_count": 4,
   "metadata": {},
   "outputs": [
    {
     "data": {
      "text/plain": [
       "5434"
      ]
     },
     "execution_count": 4,
     "metadata": {},
     "output_type": "execute_result"
    }
   ],
   "source": [
    "len(K.extension({'HouseAge': (10, 21)}))"
   ]
  },
  {
   "cell_type": "markdown",
   "metadata": {},
   "source": [
    "## Read/write MVContext to json"
   ]
  },
  {
   "cell_type": "markdown",
   "metadata": {},
   "source": [
    "Once the work is done one can write the context to a json file"
   ]
  },
  {
   "cell_type": "code",
   "execution_count": 5,
   "metadata": {},
   "outputs": [],
   "source": [
    "path = \"example.json\"\n",
    "K.write_json(path)\n",
    "K_new = MVContext.read_json(path)\n",
    "assert K_new == K\n",
    "\n",
    "!rm {path}"
   ]
  }
 ],
 "metadata": {
  "kernelspec": {
   "display_name": "Python 3",
   "language": "python",
   "name": "python3"
  },
  "language_info": {
   "codemirror_mode": {
    "name": "ipython",
    "version": 3
   },
   "file_extension": ".py",
   "mimetype": "text/x-python",
   "name": "python",
   "nbconvert_exporter": "python",
   "pygments_lexer": "ipython3",
   "version": "3.8.3"
  }
 },
 "nbformat": 4,
 "nbformat_minor": 4
}
