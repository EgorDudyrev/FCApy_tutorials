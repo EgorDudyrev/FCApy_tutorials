{
 "cells": [
  {
   "cell_type": "code",
   "execution_count": 1,
   "metadata": {},
   "outputs": [],
   "source": [
    "!pip install -U -q fcapy==0.1.3"
   ]
  },
  {
   "cell_type": "markdown",
   "metadata": {},
   "source": [
    "# General Pipeline"
   ]
  },
  {
   "cell_type": "markdown",
   "metadata": {},
   "source": [
    "## Formal Context\n",
    "(Binary data)"
   ]
  },
  {
   "cell_type": "markdown",
   "metadata": {},
   "source": [
    "Load a FormalContext $K$"
   ]
  },
  {
   "cell_type": "code",
   "execution_count": 2,
   "metadata": {},
   "outputs": [
    {
     "name": "stdout",
     "output_type": "stream",
     "text": [
      "# objects 16 ; # attributes 4\n"
     ]
    },
    {
     "data": {
      "text/plain": [
       "FormalContext (5 objects, 4 attributes, 7 connections)\n",
       "     |fly|hunt|run|swim|\n",
       "dove |  X|    |   |    |\n",
       "hen  |   |    |   |    |\n",
       "duck |  X|    |   |   X|\n",
       "goose|  X|    |   |   X|\n",
       "owl  |  X|   X|   |    |"
      ]
     },
     "execution_count": 2,
     "metadata": {},
     "output_type": "execute_result"
    }
   ],
   "source": [
    "!wget -q https://raw.githubusercontent.com/EgorDudyrev/FCApy/main/data/animal_movement.csv\n",
    "\n",
    "from fcapy.context import FormalContext\n",
    "K = FormalContext.read_csv('animal_movement.csv')\n",
    "\n",
    "!rm animal_movement.csv\n",
    "\n",
    "print('# objects', K.n_objects, '; # attributes', K.n_attributes)\n",
    "K[:5]"
   ]
  },
  {
   "cell_type": "markdown",
   "metadata": {},
   "source": [
    "Create a ConceptLattice $L$ out of the context $K$"
   ]
  },
  {
   "cell_type": "code",
   "execution_count": 3,
   "metadata": {},
   "outputs": [
    {
     "name": "stdout",
     "output_type": "stream",
     "text": [
      "# concepts: 8\n"
     ]
    }
   ],
   "source": [
    "from fcapy.lattice import ConceptLattice\n",
    "L = ConceptLattice.from_context(K)\n",
    "print(\"# concepts:\", len(L))"
   ]
  },
  {
   "cell_type": "markdown",
   "metadata": {},
   "source": [
    "Draw the lattice $L$"
   ]
  },
  {
   "cell_type": "code",
   "execution_count": 4,
   "metadata": {},
   "outputs": [
    {
     "data": {
      "image/png": "[encoded data removed]",
      "text/plain": [
       "<Figure size 720x360 with 1 Axes>"
      ]
     },
     "metadata": {},
     "output_type": "display_data"
    }
   ],
   "source": [
    "import matplotlib.pyplot as plt\n",
    "from fcapy.visualizer import ConceptLatticeVisualizer\n",
    "\n",
    "plt.figure(figsize=(10, 5))\n",
    "vsl = ConceptLatticeVisualizer(L)\n",
    "vsl.draw_networkx(draw_node_indices=True, max_new_extent_count=5)\n",
    "plt.xlim(-1,1.1)\n",
    "plt.title('Animal Movements concept lattice')\n",
    "plt.show()"
   ]
  },
  {
   "cell_type": "markdown",
   "metadata": {},
   "source": [
    "Or access each concept by its index"
   ]
  },
  {
   "cell_type": "code",
   "execution_count": 5,
   "metadata": {},
   "outputs": [
    {
     "name": "stdout",
     "output_type": "stream",
     "text": [
      "Concept 2:\n",
      "extent ('fox', 'dog', 'wolf', 'cat', 'tiger', 'lion', 'horse', 'zebra')\n",
      "intent ('run',)\n"
     ]
    }
   ],
   "source": [
    "i = 2\n",
    "c = L[i]\n",
    "print(f\"Concept {i}:\\nextent {c.extent}\\nintent {c.intent}\")"
   ]
  },
  {
   "cell_type": "code",
   "execution_count": 6,
   "metadata": {},
   "outputs": [
    {
     "name": "stdout",
     "output_type": "stream",
     "text": [
      "Concept 0:\n",
      "extent ('dove', 'hen', 'duck', 'goose', 'owl', 'hawk', 'eagle', 'fox', 'dog', 'wolf', 'cat', 'tiger', 'lion', 'horse', 'zebra', 'cow')\n",
      "intent ()\n",
      "\n",
      "Concept 1:\n",
      "extent ('owl', 'hawk', 'eagle', 'fox', 'wolf', 'cat', 'tiger', 'lion')\n",
      "intent ('hunt',)\n",
      "\n",
      "Concept 2:\n",
      "extent ('fox', 'dog', 'wolf', 'cat', 'tiger', 'lion', 'horse', 'zebra')\n",
      "intent ('run',)\n",
      "\n"
     ]
    }
   ],
   "source": [
    "indexes = [0, 1, 2]\n",
    "for i, c in zip(indexes, L[indexes]):\n",
    "    print(f\"Concept {i}:\\nextent {c.extent}\\nintent {c.intent}\\n\")"
   ]
  },
  {
   "cell_type": "markdown",
   "metadata": {},
   "source": [
    "## ManyValuedContext\n",
    "(NonBinary data)"
   ]
  },
  {
   "cell_type": "markdown",
   "metadata": {},
   "source": [
    "The same can be done for nonbinary data:"
   ]
  },
  {
   "cell_type": "code",
   "execution_count": 7,
   "metadata": {},
   "outputs": [],
   "source": [
    "from sklearn.datasets import load_iris\n",
    "X, y = load_iris(as_frame=True, return_X_y=True)"
   ]
  },
  {
   "cell_type": "code",
   "execution_count": 8,
   "metadata": {},
   "outputs": [
    {
     "name": "stdout",
     "output_type": "stream",
     "text": [
      "# objects 150 ; # attributes 4\n"
     ]
    }
   ],
   "source": [
    "from fcapy.mvcontext import MVContext, pattern_structure as PS\n",
    "\n",
    "ptypes = {str(f): PS.IntervalPS for f in X}\n",
    "mvK = MVContext(\n",
    "    X.values, ptypes,\n",
    "    object_names=('g'+X.index.astype(str)).tolist(),\n",
    "    attribute_names=X.columns.tolist()\n",
    ")\n",
    "print('# objects', mvK.n_objects, '; # attributes', mvK.n_attributes)"
   ]
  },
  {
   "cell_type": "markdown",
   "metadata": {},
   "source": [
    "We will use our implementation of Sofia algorithm to find a hundred of the most stable concepts. The total number of concepts in the dataset can be on the order of thousands or even hundreds of thousands."
   ]
  },
  {
   "cell_type": "code",
   "execution_count": 9,
   "metadata": {},
   "outputs": [
    {
     "name": "stdout",
     "output_type": "stream",
     "text": [
      "86\n",
      "CPU times: user 26.4 s, sys: 19.6 ms, total: 26.4 s\n",
      "Wall time: 26.4 s\n"
     ]
    }
   ],
   "source": [
    "%%time\n",
    "L_mv = ConceptLattice.from_context(mvK, algo='Sofia', L_max=100)\n",
    "print(len(L_mv))"
   ]
  },
  {
   "cell_type": "code",
   "execution_count": 10,
   "metadata": {},
   "outputs": [
    {
     "name": "stdout",
     "output_type": "stream",
     "text": [
      "Concept 0:\n",
      "extent g0, g1, g2, g3, g4, g5, g6, g7, g8, g9...\n",
      "intent sepal length (cm): (4.3, 7.9)\n",
      "\tsepal width (cm): (2.0, 4.4)\n",
      "\tpetal length (cm): (1.0, 6.9)\n",
      "\tpetal width (cm): (0.1, 2.5)\n",
      "\n",
      "Concept 1:\n",
      "extent g0, g1, g2, g3, g4, g5, g6, g7, g8, g9...\n",
      "intent sepal length (cm): (4.3, 7.7)\n",
      "\tsepal width (cm): (2.0, 4.4)\n",
      "\tpetal length (cm): (1.0, 6.9)\n",
      "\tpetal width (cm): (0.1, 2.5)\n",
      "\n",
      "Concept 2:\n",
      "extent g0, g1, g2, g3, g4, g5, g6, g7, g8, g9...\n",
      "intent sepal length (cm): (4.3, 7.9)\n",
      "\tsepal width (cm): (2.0, 4.4)\n",
      "\tpetal length (cm): (1.0, 6.7)\n",
      "\tpetal width (cm): (0.1, 2.5)\n",
      "\n"
     ]
    }
   ],
   "source": [
    "indexes = [0, 1, 2]\n",
    "for i, c in zip(indexes, L_mv[indexes]):\n",
    "    ext_verb = ', '.join(c.extent[:10]) + ('...' if len(c.extent)>10 else '')\n",
    "    int_verb = '\\n\\t'.join([f\"{k}: {v}\" for k,v in c.intent.items()])\n",
    "    print(f\"Concept {i}:\\nextent {ext_verb}\\nintent {int_verb}\\n\")"
   ]
  },
  {
   "cell_type": "markdown",
   "metadata": {},
   "source": [
    "# High level API"
   ]
  },
  {
   "cell_type": "markdown",
   "metadata": {},
   "source": [
    "A concept can be added or removed from a lattice:"
   ]
  },
  {
   "cell_type": "code",
   "execution_count": 11,
   "metadata": {},
   "outputs": [
    {
     "name": "stdout",
     "output_type": "stream",
     "text": [
      "Initial size of a lattice: 8\n",
      "Size after deletion: 7\n",
      "Size after addition: 8\n",
      "The add-removed lattice is the same as before: True \n",
      "\n",
      "// Although the indices of elements have changed:\n",
      "\t 0 -> 0, 1 -> 1, 2 -> 2, 3 -> 3, 4 -> 7, 5 -> 4, 6 -> 5, 7 -> 6\n"
     ]
    }
   ],
   "source": [
    "L = ConceptLattice.from_context(K)\n",
    "print('Initial size of a lattice:', len(L))\n",
    "\n",
    "c = L[4]\n",
    "L.remove_concept(4)\n",
    "print('Size after deletion:', len(L))\n",
    "\n",
    "L.add_concept(c)\n",
    "print('Size after addition:', len(L))\n",
    "\n",
    "L_true = ConceptLattice.from_context(K)\n",
    "print('The add-removed lattice is the same as before:', L==L_true, '\\n')\n",
    "print('// Although the indices of elements have changed:\\n\\t',\n",
    "      ', '.join([f\"{c_i} -> {L.index(c)}\" for c_i, c in enumerate(L_true)]))"
   ]
  },
  {
   "cell_type": "markdown",
   "metadata": {},
   "source": [
    "The neighbours of a specific concept can be obtained as follows:"
   ]
  },
  {
   "cell_type": "code",
   "execution_count": 12,
   "metadata": {},
   "outputs": [],
   "source": [
    "i = 4\n",
    "\n",
    "# direct subconcepts (children) of the fourth concept\n",
    "a, b, c = L.direct_sub_elements(element_index=i), L.direct_sub_elements_dict[i], L.subconcepts_dict[i]\n",
    "assert a==b==c\n",
    "\n",
    "# direct superconcepts (parents) of the fourth concept\n",
    "a, b, c = L.direct_super_elements(element_index=i), L.direct_super_elements_dict[i], L.superconcepts_dict[i]\n",
    "assert a==b==c\n",
    "\n",
    "# all subconcepts (descendants) of the fourth concept\n",
    "a, b, c = L.sub_elements(element_index=i), L.sub_elements_dict[i], L.all_subconcepts_dict[i]\n",
    "assert a==b==c\n",
    "\n",
    "# all superconcepts (ancestors) of the fourth concept\n",
    "a, b, c = L.super_elements(element_index=i), L.super_elements_dict[i], L.all_superconcepts_dict[i]\n",
    "assert a==b==c"
   ]
  }
 ],
 "metadata": {
  "kernelspec": {
   "display_name": "Python 3",
   "language": "python",
   "name": "python3"
  },
  "language_info": {
   "codemirror_mode": {
    "name": "ipython",
    "version": 3
   },
   "file_extension": ".py",
   "mimetype": "text/x-python",
   "name": "python",
   "nbconvert_exporter": "python",
   "pygments_lexer": "ipython3",
   "version": "3.8.3"
  }
 },
 "nbformat": 4,
 "nbformat_minor": 4
}
